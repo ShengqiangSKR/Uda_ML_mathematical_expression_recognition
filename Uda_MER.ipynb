{
 "cells": [
  {
   "cell_type": "code",
   "execution_count": 52,
   "metadata": {},
   "outputs": [],
   "source": [
    "import pandas as pd\n",
    "import numpy as np\n",
    "import os\n",
    "from sklearn.model_selection import train_test_split\n",
    "from keras.preprocessing import image  \n",
    "import cv2\n",
    "import string"
   ]
  },
  {
   "cell_type": "code",
   "execution_count": 53,
   "metadata": {},
   "outputs": [],
   "source": [
    "src_path=r'/input/uda_MER'\n",
    "img_path=os.path.join(src_path,'train')\n",
    "csv_file=pd.read_csv(os.path.join(src_path,'train.csv'))\n",
    "# img path and label\n",
    "paths=[i for i in csv_file['filename']] \n",
    "labels=[i for i in csv_file['label']]"
   ]
  },
  {
   "cell_type": "code",
   "execution_count": 54,
   "metadata": {},
   "outputs": [
    {
     "name": "stdout",
     "output_type": "stream",
     "text": [
      "Max.Len=11\n",
      "Min.Len=7\n"
     ]
    }
   ],
   "source": [
    "#define characters in the expression\n",
    "chars = '0123456789+-*()=' \n",
    "chars_array = np.array(list(chars))\n",
    "\n",
    "#\n",
    "n_class = len(chars)+1\n",
    "#Max length of the expression\n",
    "len_label=[len(i) for i in labels]\n",
    "len_label.sort()\n",
    "n_seq=len_label[-1]\n",
    "min_seq=len_label[0]\n",
    "print('Max.Len={}'.format(n_seq))\n",
    "print('Min.Len={}'.format(min_seq))\n",
    "#"
   ]
  },
  {
   "cell_type": "code",
   "execution_count": 55,
   "metadata": {},
   "outputs": [
    {
     "name": "stdout",
     "output_type": "stream",
     "text": [
      "80000 10000 10000\n",
      "train/31546.jpg\n",
      "Example of path: train/31546.jpg\n",
      "Example of label: 7*(6-5)=7\n"
     ]
    }
   ],
   "source": [
    "#split the data set, get 100000 test data \n",
    "img_path_rest, img_path_test, labels_rest, labels_test = train_test_split(paths, labels, test_size=10000, random_state=10)\n",
    "#split the data set, get 100000 valid data\n",
    "img_path_train, img_path_valid, labels_train, labels_valid = train_test_split(img_path_rest, labels_rest, test_size=10000, random_state=10)\n",
    "print(len(img_path_train),len(img_path_valid),len(img_path_test))\n",
    "print(img_path_train[0])\n",
    "print('Example of path: {}'.format(img_path_train[0]))\n",
    "print('Example of label: {}'.format(labels_train[0]))\n",
    "#should be updated"
   ]
  },
  {
   "cell_type": "code",
   "execution_count": 58,
   "metadata": {},
   "outputs": [],
   "source": [
    "#get label length\n",
    "def get_label_len(labels):\n",
    "    length=np.zeros((len(labels),1))\n",
    "    for i,label in enumerate(labels):\n",
    "        length[i] = len(label)\n",
    "    return length\n",
    "\n",
    "#turn a path list into numpy array\n",
    "def tensors_trans(paths):\n",
    "    img_list=[]\n",
    "    for element in paths:\n",
    "        ele=os.path.join(src_path,element)\n",
    "        img=cv2.imread(ele)\n",
    "        img_gray = cv2.cvtColor(img, cv2.COLOR_BGR2GRAY)\n",
    "        img_gray = np.expand_dims(image.img_to_array(img_gray),axis=0)\n",
    "        img_list.append(img_gray)\n",
    "    img_tensor=np.vstack(img_list)\n",
    "    return img_tensor\n",
    "#label to index reffers to chars\n",
    "def get_index(label):\n",
    "    index = np.zeros(n_seq)\n",
    "    for i, char in enumerate(label):\n",
    "        index[i] = chars.find(char)\n",
    "    return index"
   ]
  },
  {
   "cell_type": "code",
   "execution_count": 60,
   "metadata": {},
   "outputs": [],
   "source": [
    "#maybe ues the iterator will be better\n",
    "X_train, X_valid, X_test = [tensors_trans(img_path) for img_path in [img_path_train, img_path_valid, img_path_test]]\n",
    "y_train = np.array([get_index(label) for label in labels_train])\n",
    "y_valid = np.array([get_index(label) for label in labels_valid])\n",
    "y_test = np.array([get_index(label) for label in labels_test])"
   ]
  },
  {
   "cell_type": "code",
   "execution_count": 61,
   "metadata": {},
   "outputs": [],
   "source": [
    "label_length_train = get_label_len(labels_train)\n",
    "label_length_valid = get_label_len(labels_valid)\n",
    "label_length_test = get_label_len(labels_test)"
   ]
  },
  {
   "cell_type": "code",
   "execution_count": 62,
   "metadata": {},
   "outputs": [
    {
     "data": {
      "image/png": "[encoded data removed]",
      "text/plain": [
       "<Figure size 432x288 with 1 Axes>"
      ]
     },
     "metadata": {
      "needs_background": "light"
     },
     "output_type": "display_data"
    }
   ],
   "source": [
    "import matplotlib.pyplot as plt\n",
    "%matplotlib inline\n",
    "\n",
    "plt.subplot();\n",
    "plt.hist(x=[label_length_train,label_length_valid,label_length_test],\n",
    "         bins=[7,8,9,10,11,12],align='left',density=1,);\n",
    "plt.title('Label length distribution');\n",
    "plt.legend(['train','valid','test']);\n",
    "plt.xlabel('Label length');\n",
    "plt.ylabel('ratio');"
   ]
  },
  {
   "cell_type": "code",
   "execution_count": 14,
   "metadata": {},
   "outputs": [],
   "source": [
    "h = cv2.equalizeHist(gray)\n"
   ]
  },
  {
   "cell_type": "code",
   "execution_count": null,
   "metadata": {},
   "outputs": [],
   "source": [
    "show_pic(img_path_train[0],labels_train[0])"
   ]
  },
  {
   "cell_type": "code",
   "execution_count": 63,
   "metadata": {},
   "outputs": [],
   "source": [
    "import keras.backend as K\n",
    "from keras.models import *\n",
    "from keras.layers import *\n",
    "from keras.regularizers import L1L2\n",
    "import matplotlib.pyplot as plt\n",
    "import re\n",
    "from keras.callbacks import *\n",
    "from keras.optimizers import SGD\n",
    "%matplotlib inline"
   ]
  },
  {
   "cell_type": "code",
   "execution_count": 64,
   "metadata": {},
   "outputs": [],
   "source": [
    "height, width, channel = X_train.shape[1:]\n",
    "input_tensor = Input(shape=[height, width, channel])\n",
    "x = input_tensor\n",
    "\n",
    "x = Conv2D(32*2**0, 3, strides=1, padding='same', activation='relu',kernel_initializer='he_normal')(x)\n",
    "x = MaxPooling2D((2, 2), strides=2, padding='same')(x)\n",
    "x = Dropout(rate=0.25)(x)\n",
    "x = Conv2D(32*2**1, 3, strides=1, padding='same', activation='relu',kernel_initializer='he_normal')(x)\n",
    "x = MaxPooling2D((2, 2), strides=2, padding='same')(x)\n",
    "x = Dropout(rate=0.25)(x)\n",
    "x = Conv2D(32*2**2, 3, strides=1, padding='same', activation='relu',kernel_initializer='he_normal')(x)\n",
    "x = MaxPooling2D((2, 2), strides=2, padding='same')(x)\n",
    "x = Dropout(rate=0.25)(x)\n",
    "x = Conv2D(256, 3, strides=1, padding='same', activation='relu',kernel_initializer='he_normal')(x)\n",
    "x = BatchNormalization(axis=-1,momentum=0.99, epsilon=0.001)(x)\n",
    "\n",
    "x = Conv2D(512, 3, strides=1, padding='same', activation='relu')(x)\n",
    "x = BatchNormalization(axis=-1,momentum=0.99, epsilon=0.001)(x)\n",
    "\n",
    "x = MaxPooling2D((1, 2), strides=2, padding='same')(x)\n",
    "x = Dropout(rate=0.5)(x)\n",
    "\n",
    "x = Permute((2,1,3))(x)\n",
    "\n",
    "x = TimeDistributed(Flatten())(x)\n",
    "\n",
    "x = Bidirectional(CuDNNLSTM(64, return_sequences=True))(x)\n",
    "x = Bidirectional(CuDNNLSTM(64, return_sequences=True))(x)\n",
    "\n",
    "y_pred = Dense(n_class,activation='softmax')(x)\n",
    "\n",
    "base_model = Model(inputs=input_tensor,outputs = y_pred)"
   ]
  },
  {
   "cell_type": "code",
   "execution_count": null,
   "metadata": {},
   "outputs": [],
   "source": [
    "\n"
   ]
  },
  {
   "cell_type": "code",
   "execution_count": 65,
   "metadata": {},
   "outputs": [],
   "source": [
    "chars_space = chars + u' '#unicode\n",
    "def decode(pred):\n",
    "    pred = pred.argmax(axis=2)#get the most possible char\n",
    "    orig_labels = []\n",
    "    new_labels = []\n",
    "    for i, code in enumerate(pred):\n",
    "        orig_labels.append(''.join([chars_space[x] for x in code]))\n",
    "    for string in orig_labels:\n",
    "        new_labels.append(re.sub(r'\\s','',re.sub(r'(.)\\1+', r'\\1', string)))#remove uncessary space and ```                              \n",
    "    return [np.array(orig_labels), np.array(new_labels)]"
   ]
  },
  {
   "cell_type": "code",
   "execution_count": 66,
   "metadata": {},
   "outputs": [],
   "source": [
    "def evalute_valid(model):\n",
    "    pred = model.predict(X_valid)\n",
    "    org_labels, new_labels = decode(pred)\n",
    "    return (new_labels==labels_valid).mean()*100#valid data set accuracy\n",
    "\n",
    "class Evaluate(Callback):\n",
    "    def __init__(self):\n",
    "        self.accs = []\n",
    "    \n",
    "    def on_epoch_end(self, epoch, logs=None):\n",
    "        acc = evalute_valid(base_model)\n",
    "        self.accs.append(acc)\n",
    "        print('valid acc: %f%%'%acc)\n",
    "\n",
    "evaluator = Evaluate()"
   ]
  },
  {
   "cell_type": "code",
   "execution_count": 67,
   "metadata": {},
   "outputs": [
    {
     "name": "stdout",
     "output_type": "stream",
     "text": [
      "__________________________________________________________________________________________________\n",
      "Layer (type)                    Output Shape         Param #     Connected to                     \n",
      "==================================================================================================\n",
      "input_9 (InputLayer)            (None, 64, 300, 1)   0                                            \n",
      "__________________________________________________________________________________________________\n",
      "conv2d_71 (Conv2D)              (None, 64, 300, 32)  320         input_9[0][0]                    \n",
      "__________________________________________________________________________________________________\n",
      "max_pooling2d_28 (MaxPooling2D) (None, 32, 150, 32)  0           conv2d_71[0][0]                  \n",
      "__________________________________________________________________________________________________\n",
      "dropout_13 (Dropout)            (None, 32, 150, 32)  0           max_pooling2d_28[0][0]           \n",
      "__________________________________________________________________________________________________\n",
      "conv2d_72 (Conv2D)              (None, 32, 150, 64)  18496       dropout_13[0][0]                 \n",
      "__________________________________________________________________________________________________\n",
      "max_pooling2d_29 (MaxPooling2D) (None, 16, 75, 64)   0           conv2d_72[0][0]                  \n",
      "__________________________________________________________________________________________________\n",
      "dropout_14 (Dropout)            (None, 16, 75, 64)   0           max_pooling2d_29[0][0]           \n",
      "__________________________________________________________________________________________________\n",
      "conv2d_73 (Conv2D)              (None, 16, 75, 128)  73856       dropout_14[0][0]                 \n",
      "__________________________________________________________________________________________________\n",
      "max_pooling2d_30 (MaxPooling2D) (None, 8, 38, 128)   0           conv2d_73[0][0]                  \n",
      "__________________________________________________________________________________________________\n",
      "dropout_15 (Dropout)            (None, 8, 38, 128)   0           max_pooling2d_30[0][0]           \n",
      "__________________________________________________________________________________________________\n",
      "conv2d_74 (Conv2D)              (None, 8, 38, 256)   295168      dropout_15[0][0]                 \n",
      "__________________________________________________________________________________________________\n",
      "batch_normalization_27 (BatchNo (None, 8, 38, 256)   1024        conv2d_74[0][0]                  \n",
      "__________________________________________________________________________________________________\n",
      "conv2d_75 (Conv2D)              (None, 8, 38, 512)   1180160     batch_normalization_27[0][0]     \n",
      "__________________________________________________________________________________________________\n",
      "batch_normalization_28 (BatchNo (None, 8, 38, 512)   2048        conv2d_75[0][0]                  \n",
      "__________________________________________________________________________________________________\n",
      "max_pooling2d_31 (MaxPooling2D) (None, 4, 19, 512)   0           batch_normalization_28[0][0]     \n",
      "__________________________________________________________________________________________________\n",
      "dropout_16 (Dropout)            (None, 4, 19, 512)   0           max_pooling2d_31[0][0]           \n",
      "__________________________________________________________________________________________________\n",
      "permute_8 (Permute)             (None, 19, 4, 512)   0           dropout_16[0][0]                 \n",
      "__________________________________________________________________________________________________\n",
      "time_distributed_6 (TimeDistrib (None, 19, 2048)     0           permute_8[0][0]                  \n",
      "__________________________________________________________________________________________________\n",
      "bidirectional_12 (Bidirectional (None, 19, 128)      1082368     time_distributed_6[0][0]         \n",
      "__________________________________________________________________________________________________\n",
      "bidirectional_13 (Bidirectional (None, 19, 128)      99328       bidirectional_12[0][0]           \n",
      "__________________________________________________________________________________________________\n",
      "dense_12 (Dense)                (None, 19, 17)       2193        bidirectional_13[0][0]           \n",
      "__________________________________________________________________________________________________\n",
      "the_labels (InputLayer)         (None, None)         0                                            \n",
      "__________________________________________________________________________________________________\n",
      "input_length (InputLayer)       (None, 1)            0                                            \n",
      "__________________________________________________________________________________________________\n",
      "label_length (InputLayer)       (None, 1)            0                                            \n",
      "__________________________________________________________________________________________________\n",
      "ctc (Lambda)                    (None, 1)            0           dense_12[0][0]                   \n",
      "                                                                 the_labels[0][0]                 \n",
      "                                                                 input_length[0][0]               \n",
      "                                                                 label_length[0][0]               \n",
      "==================================================================================================\n",
      "Total params: 2,754,961\n",
      "Trainable params: 2,753,425\n",
      "Non-trainable params: 1,536\n",
      "__________________________________________________________________________________________________\n"
     ]
    }
   ],
   "source": [
    "#  CTC-Loss function\n",
    "def ctc_lambda_func(args):\n",
    "    y_pred, labels, input_length, label_length = args\n",
    "    return K.ctc_batch_cost(labels, y_pred, input_length, label_length)\n",
    "labels = Input(name='the_labels', shape=[None], dtype='float32')\n",
    "input_length = Input(name='input_length', shape=[1], dtype='int64')\n",
    "label_length = Input(name='label_length', shape=[1], dtype='int64')\n",
    "loss_out = Lambda(ctc_lambda_func, output_shape=(1,), name='ctc')([y_pred, labels, input_length, label_length])\n",
    "\n",
    "model = Model(inputs=[input_tensor, labels, input_length, label_length], outputs=[loss_out])\n",
    "model.compile(loss={'ctc': lambda y_true, y_pred: y_pred}, optimizer='adam')# \n",
    "model.summary()"
   ]
  },
  {
   "cell_type": "code",
   "execution_count": 68,
   "metadata": {},
   "outputs": [],
   "source": [
    "model_file_path = '/output/model01.hd5'#weight file\n",
    "\n",
    "#base_model.load_weights(model_file_path)"
   ]
  },
  {
   "cell_type": "code",
   "execution_count": 69,
   "metadata": {},
   "outputs": [
    {
     "name": "stdout",
     "output_type": "stream",
     "text": [
      "Train on 80000 samples, validate on 10000 samples\n",
      "Epoch 1/400\n",
      "80000/80000 [==============================] - 114s 1ms/step - loss: 13.0448 - val_loss: 39.5771\n",
      "\n",
      "Epoch 00001: val_loss improved from inf to 39.57708, saving model to /output/model01.hd5\n",
      "valid acc: 0.000000%\n",
      "Epoch 2/400\n",
      "80000/80000 [==============================] - 114s 1ms/step - loss: 1.1339 - val_loss: 0.5028\n",
      "\n",
      "Epoch 00002: val_loss improved from 39.57708 to 0.50276, saving model to /output/model01.hd5\n",
      "valid acc: 89.570000%\n",
      "Epoch 3/400\n",
      "80000/80000 [==============================] - 114s 1ms/step - loss: 0.5184 - val_loss: 0.2570\n",
      "\n",
      "Epoch 00003: val_loss improved from 0.50276 to 0.25700, saving model to /output/model01.hd5\n",
      "valid acc: 94.510000%\n",
      "Epoch 4/400\n",
      "80000/80000 [==============================] - 114s 1ms/step - loss: 0.3516 - val_loss: 0.2008\n",
      "\n",
      "Epoch 00004: val_loss improved from 0.25700 to 0.20075, saving model to /output/model01.hd5\n",
      "valid acc: 95.740000%\n",
      "Epoch 5/400\n",
      "80000/80000 [==============================] - 114s 1ms/step - loss: 0.2713 - val_loss: 0.1531\n",
      "\n",
      "Epoch 00005: val_loss improved from 0.20075 to 0.15308, saving model to /output/model01.hd5\n",
      "valid acc: 96.720000%\n",
      "Epoch 6/400\n",
      "80000/80000 [==============================] - 114s 1ms/step - loss: 0.2255 - val_loss: 0.1317\n",
      "\n",
      "Epoch 00006: val_loss improved from 0.15308 to 0.13167, saving model to /output/model01.hd5\n",
      "valid acc: 97.430000%\n",
      "Epoch 7/400\n",
      "80000/80000 [==============================] - 114s 1ms/step - loss: 0.1869 - val_loss: 0.1475\n",
      "\n",
      "Epoch 00007: val_loss did not improve from 0.13167\n",
      "valid acc: 96.640000%\n",
      "Epoch 8/400\n",
      "80000/80000 [==============================] - 114s 1ms/step - loss: 0.1635 - val_loss: 0.0923\n",
      "\n",
      "Epoch 00008: val_loss improved from 0.13167 to 0.09229, saving model to /output/model01.hd5\n",
      "valid acc: 98.030000%\n",
      "Epoch 9/400\n",
      "80000/80000 [==============================] - 114s 1ms/step - loss: 0.1426 - val_loss: 0.1111\n",
      "\n",
      "Epoch 00009: val_loss did not improve from 0.09229\n",
      "valid acc: 97.920000%\n",
      "Epoch 10/400\n",
      "80000/80000 [==============================] - 114s 1ms/step - loss: 0.1319 - val_loss: 0.0896\n",
      "\n",
      "Epoch 00010: val_loss improved from 0.09229 to 0.08963, saving model to /output/model01.hd5\n",
      "valid acc: 98.210000%\n",
      "Epoch 11/400\n",
      "80000/80000 [==============================] - 114s 1ms/step - loss: 0.1251 - val_loss: 0.0678\n",
      "\n",
      "Epoch 00011: val_loss improved from 0.08963 to 0.06778, saving model to /output/model01.hd5\n",
      "valid acc: 98.400000%\n",
      "Epoch 12/400\n",
      "80000/80000 [==============================] - 114s 1ms/step - loss: 0.1138 - val_loss: 0.0819\n",
      "\n",
      "Epoch 00012: val_loss did not improve from 0.06778\n",
      "valid acc: 98.060000%\n",
      "Epoch 13/400\n",
      "80000/80000 [==============================] - 114s 1ms/step - loss: 0.1035 - val_loss: 0.0802\n",
      "\n",
      "Epoch 00013: val_loss did not improve from 0.06778\n",
      "valid acc: 98.390000%\n",
      "Epoch 14/400\n",
      "80000/80000 [==============================] - 114s 1ms/step - loss: 0.1008 - val_loss: 0.0648\n",
      "\n",
      "Epoch 00014: val_loss improved from 0.06778 to 0.06477, saving model to /output/model01.hd5\n",
      "valid acc: 98.590000%\n",
      "Epoch 15/400\n",
      "80000/80000 [==============================] - 114s 1ms/step - loss: 0.0991 - val_loss: 0.0619\n",
      "\n",
      "Epoch 00015: val_loss improved from 0.06477 to 0.06190, saving model to /output/model01.hd5\n",
      "valid acc: 98.730000%\n",
      "Epoch 16/400\n",
      "80000/80000 [==============================] - 114s 1ms/step - loss: 0.0927 - val_loss: 0.0601\n",
      "\n",
      "Epoch 00016: val_loss improved from 0.06190 to 0.06014, saving model to /output/model01.hd5\n",
      "valid acc: 98.600000%\n",
      "Epoch 17/400\n",
      "80000/80000 [==============================] - 114s 1ms/step - loss: 0.0828 - val_loss: 0.0658\n",
      "\n",
      "Epoch 00017: val_loss did not improve from 0.06014\n",
      "valid acc: 98.610000%\n",
      "Epoch 18/400\n",
      "80000/80000 [==============================] - 115s 1ms/step - loss: 0.0871 - val_loss: 6.1963\n",
      "\n",
      "Epoch 00018: val_loss did not improve from 0.06014\n",
      "valid acc: 9.860000%\n",
      "Epoch 19/400\n",
      "80000/80000 [==============================] - 114s 1ms/step - loss: 0.0818 - val_loss: 0.0472\n",
      "\n",
      "Epoch 00019: val_loss improved from 0.06014 to 0.04718, saving model to /output/model01.hd5\n",
      "valid acc: 98.770000%\n",
      "Epoch 20/400\n",
      "80000/80000 [==============================] - 114s 1ms/step - loss: 0.0723 - val_loss: 0.0581\n",
      "\n",
      "Epoch 00020: val_loss did not improve from 0.04718\n",
      "valid acc: 98.660000%\n",
      "Epoch 21/400\n",
      "80000/80000 [==============================] - 114s 1ms/step - loss: 0.0732 - val_loss: 0.0509\n",
      "\n",
      "Epoch 00021: val_loss did not improve from 0.04718\n",
      "valid acc: 98.810000%\n",
      "Epoch 22/400\n",
      "80000/80000 [==============================] - 114s 1ms/step - loss: 0.0812 - val_loss: 0.0570\n",
      "\n",
      "Epoch 00022: val_loss did not improve from 0.04718\n",
      "valid acc: 98.740000%\n",
      "Epoch 23/400\n",
      "80000/80000 [==============================] - 114s 1ms/step - loss: 0.0771 - val_loss: 0.0659\n",
      "\n",
      "Epoch 00023: val_loss did not improve from 0.04718\n",
      "valid acc: 98.710000%\n",
      "Epoch 24/400\n",
      "80000/80000 [==============================] - 114s 1ms/step - loss: 0.0652 - val_loss: 0.0460\n",
      "\n",
      "Epoch 00024: val_loss improved from 0.04718 to 0.04598, saving model to /output/model01.hd5\n",
      "valid acc: 98.930000%\n",
      "Epoch 25/400\n",
      "80000/80000 [==============================] - 114s 1ms/step - loss: 0.0672 - val_loss: 0.0660\n",
      "\n",
      "Epoch 00025: val_loss did not improve from 0.04598\n",
      "valid acc: 98.800000%\n",
      "Epoch 26/400\n",
      "80000/80000 [==============================] - 114s 1ms/step - loss: 0.0661 - val_loss: 0.0479\n",
      "\n",
      "Epoch 00026: val_loss did not improve from 0.04598\n",
      "valid acc: 98.800000%\n",
      "Epoch 27/400\n",
      "80000/80000 [==============================] - 109s 1ms/step - loss: 0.0769 - val_loss: 0.0490\n",
      "\n",
      "Epoch 00027: val_loss did not improve from 0.04598\n",
      "valid acc: 98.900000%\n",
      "Epoch 28/400\n",
      "80000/80000 [==============================] - 109s 1ms/step - loss: 0.0629 - val_loss: 0.0429\n",
      "\n",
      "Epoch 00028: val_loss improved from 0.04598 to 0.04286, saving model to /output/model01.hd5\n",
      "valid acc: 99.050000%\n",
      "Epoch 29/400\n",
      "80000/80000 [==============================] - 109s 1ms/step - loss: 0.0551 - val_loss: 0.0424\n",
      "\n",
      "Epoch 00029: val_loss improved from 0.04286 to 0.04236, saving model to /output/model01.hd5\n",
      "valid acc: 99.080000%\n",
      "Epoch 30/400\n",
      "80000/80000 [==============================] - 109s 1ms/step - loss: 0.0609 - val_loss: 1.0487\n",
      "\n",
      "Epoch 00030: val_loss did not improve from 0.04236\n",
      "valid acc: 78.800000%\n",
      "Epoch 31/400\n",
      "80000/80000 [==============================] - 109s 1ms/step - loss: 0.0578 - val_loss: 0.0476\n",
      "\n",
      "Epoch 00031: val_loss did not improve from 0.04236\n",
      "valid acc: 98.970000%\n",
      "Epoch 32/400\n",
      "80000/80000 [==============================] - 108s 1ms/step - loss: 0.0562 - val_loss: 0.0500\n",
      "\n",
      "Epoch 00032: val_loss did not improve from 0.04236\n",
      "valid acc: 99.020000%\n",
      "Epoch 33/400\n",
      "80000/80000 [==============================] - 108s 1ms/step - loss: 0.0508 - val_loss: 0.0518\n",
      "\n",
      "Epoch 00033: val_loss did not improve from 0.04236\n",
      "valid acc: 98.780000%\n",
      "Epoch 34/400\n",
      "80000/80000 [==============================] - 109s 1ms/step - loss: 0.0508 - val_loss: 0.0416\n",
      "\n",
      "Epoch 00034: val_loss improved from 0.04236 to 0.04156, saving model to /output/model01.hd5\n",
      "valid acc: 99.130000%\n",
      "Epoch 35/400\n",
      "80000/80000 [==============================] - 109s 1ms/step - loss: 0.0484 - val_loss: 0.0449\n",
      "\n",
      "Epoch 00035: val_loss did not improve from 0.04156\n",
      "valid acc: 99.050000%\n",
      "Epoch 36/400\n",
      "80000/80000 [==============================] - 108s 1ms/step - loss: 0.0504 - val_loss: 0.1480\n",
      "\n",
      "Epoch 00036: val_loss did not improve from 0.04156\n",
      "valid acc: 96.480000%\n",
      "Epoch 37/400\n",
      "80000/80000 [==============================] - 108s 1ms/step - loss: 0.0521 - val_loss: 0.0567\n",
      "\n",
      "Epoch 00037: val_loss did not improve from 0.04156\n",
      "valid acc: 98.900000%\n",
      "Epoch 38/400\n",
      "80000/80000 [==============================] - 109s 1ms/step - loss: 0.0478 - val_loss: 0.0370\n",
      "\n",
      "Epoch 00038: val_loss improved from 0.04156 to 0.03698, saving model to /output/model01.hd5\n",
      "valid acc: 99.050000%\n",
      "Epoch 39/400\n",
      "80000/80000 [==============================] - 114s 1ms/step - loss: 0.0456 - val_loss: 0.0341\n",
      "\n",
      "Epoch 00039: val_loss improved from 0.03698 to 0.03413, saving model to /output/model01.hd5\n",
      "valid acc: 99.210000%\n",
      "Epoch 40/400\n",
      "80000/80000 [==============================] - 114s 1ms/step - loss: 0.0426 - val_loss: 0.0407\n",
      "\n",
      "Epoch 00040: val_loss did not improve from 0.03413\n",
      "valid acc: 99.160000%\n",
      "Epoch 41/400\n",
      "80000/80000 [==============================] - 114s 1ms/step - loss: 0.0537 - val_loss: 0.0340\n"
     ]
    },
    {
     "name": "stdout",
     "output_type": "stream",
     "text": [
      "\n",
      "Epoch 00041: val_loss improved from 0.03413 to 0.03396, saving model to /output/model01.hd5\n",
      "valid acc: 99.090000%\n",
      "Epoch 42/400\n",
      "80000/80000 [==============================] - 114s 1ms/step - loss: 0.0485 - val_loss: 0.0549\n",
      "\n",
      "Epoch 00042: val_loss did not improve from 0.03396\n",
      "valid acc: 98.630000%\n",
      "Epoch 43/400\n",
      "80000/80000 [==============================] - 114s 1ms/step - loss: 0.0421 - val_loss: 0.0461\n",
      "\n",
      "Epoch 00044: val_loss did not improve from 0.02951\n",
      "valid acc: 99.190000%\n",
      "Epoch 45/400\n",
      "80000/80000 [==============================] - 112s 1ms/step - loss: 0.0442 - val_loss: 0.0362\n",
      "\n",
      "Epoch 00045: val_loss did not improve from 0.02951\n",
      "valid acc: 99.130000%\n",
      "Epoch 46/400\n",
      "80000/80000 [==============================] - 109s 1ms/step - loss: 0.0443 - val_loss: 0.0372\n",
      "\n",
      "Epoch 00046: val_loss did not improve from 0.02951\n",
      "valid acc: 99.210000%\n",
      "Epoch 47/400\n",
      "80000/80000 [==============================] - 114s 1ms/step - loss: 0.0463 - val_loss: 0.0463\n",
      "\n",
      "Epoch 00047: val_loss did not improve from 0.02951\n",
      "valid acc: 98.830000%\n",
      "Epoch 48/400\n",
      "80000/80000 [==============================] - 115s 1ms/step - loss: 0.0398 - val_loss: 0.0346\n",
      "\n",
      "Epoch 00048: val_loss did not improve from 0.02951\n",
      "valid acc: 99.280000%\n",
      "Epoch 49/400\n",
      "80000/80000 [==============================] - 114s 1ms/step - loss: 0.0383 - val_loss: 0.0335\n",
      "\n",
      "Epoch 00049: val_loss did not improve from 0.02951\n",
      "valid acc: 99.230000%\n",
      "Epoch 50/400\n",
      "80000/80000 [==============================] - 115s 1ms/step - loss: 0.0418 - val_loss: 0.0419\n",
      "\n",
      "Epoch 00050: val_loss did not improve from 0.02951\n",
      "valid acc: 99.020000%\n",
      "Epoch 51/400\n",
      "80000/80000 [==============================] - 115s 1ms/step - loss: 0.0433 - val_loss: 0.0294\n",
      "\n",
      "Epoch 00051: val_loss improved from 0.02951 to 0.02938, saving model to /output/model01.hd5\n",
      "valid acc: 99.200000%\n",
      "Epoch 52/400\n",
      "80000/80000 [==============================] - 115s 1ms/step - loss: 0.0416 - val_loss: 0.0411\n",
      "\n",
      "Epoch 00052: val_loss did not improve from 0.02938\n",
      "valid acc: 99.090000%\n",
      "Epoch 53/400\n",
      "80000/80000 [==============================] - 114s 1ms/step - loss: 0.0394 - val_loss: 0.0328\n",
      "\n",
      "Epoch 00054: val_loss did not improve from 0.02938\n",
      "valid acc: 99.310000%\n",
      "Epoch 55/400\n",
      "80000/80000 [==============================] - 114s 1ms/step - loss: 0.0374 - val_loss: 0.0356\n",
      "\n",
      "Epoch 00055: val_loss did not improve from 0.02938\n",
      "valid acc: 99.190000%\n",
      "Epoch 56/400\n",
      "80000/80000 [==============================] - 114s 1ms/step - loss: 0.0381 - val_loss: 0.0423\n",
      "\n",
      "Epoch 00056: val_loss did not improve from 0.02938\n",
      "valid acc: 99.220000%\n",
      "Epoch 57/400\n",
      "80000/80000 [==============================] - 114s 1ms/step - loss: 0.0345 - val_loss: 0.0604\n",
      "\n",
      "Epoch 00057: val_loss did not improve from 0.02938\n",
      "valid acc: 98.940000%\n",
      "Epoch 58/400\n",
      "80000/80000 [==============================] - 114s 1ms/step - loss: 0.0392 - val_loss: 0.0311\n",
      "\n",
      "Epoch 00058: val_loss did not improve from 0.02938\n",
      "valid acc: 99.420000%\n",
      "Epoch 59/400\n",
      "80000/80000 [==============================] - 115s 1ms/step - loss: 0.0424 - val_loss: 0.0346\n",
      "\n",
      "Epoch 00060: val_loss did not improve from 0.02938\n",
      "valid acc: 99.280000%\n",
      "Epoch 61/400\n",
      "80000/80000 [==============================] - 114s 1ms/step - loss: 0.0314 - val_loss: 0.0328\n",
      "\n",
      "Epoch 00061: val_loss did not improve from 0.02938\n",
      "valid acc: 99.360000%\n",
      "Epoch 00061: early stopping\n"
     ]
    }
   ],
   "source": [
    "checkpointer = ModelCheckpoint(filepath=model_file_path, \n",
    "                               verbose=1, monitor='val_loss', save_best_only=True)\n",
    "esp = EarlyStopping(monitor='val_loss', patience=10, verbose=1)\n",
    "tb = TensorBoard(log_dir='./output', update_freq='epoch')\n",
    "\n",
    "#\n",
    "input_len_to_ctc = np.array(np.ones((len(X_train),1))*base_model.output_shape[1])\n",
    "label_len_to_ctc = label_length_train\n",
    "\n",
    "input_len_to_ctc2 = np.array(np.ones((len(X_valid),1))*base_model.output_shape[1])\n",
    "label_len_to_ctc2 = label_length_valid\n",
    "\n",
    "\n",
    "fited = model.fit(x=[X_train, y_train, input_len_to_ctc, label_len_to_ctc], \n",
    "                  y=np.ones(len(y_train)),\n",
    "                  validation_data=([X_valid, y_valid, input_len_to_ctc2, label_len_to_ctc2], np.ones(len(y_valid))),\n",
    "                  batch_size=200, epochs=400, callbacks=[checkpointer, evaluator, esp, tb], verbose=1)"
   ]
  },
  {
   "cell_type": "code",
   "execution_count": 70,
   "metadata": {},
   "outputs": [
    {
     "name": "stdout",
     "output_type": "stream",
     "text": [
      "test_acc: 99.26%\n"
     ]
    }
   ],
   "source": [
    "base_model.load_weights(model_file_path)\n",
    "pred = base_model.predict(X_test)\n",
    "sequence, new_labels = decode(pred)\n",
    "test_acc = (new_labels==labels_test).mean()*100\n",
    "print('test_acc: {}%'.format(round(test_acc,2)))\n",
    "#1round acc:98.09%\n",
    "#2round acc:97.05%\n",
    "#```\n",
    "#finial"
   ]
  },
  {
   "cell_type": "code",
   "execution_count": 72,
   "metadata": {},
   "outputs": [],
   "source": [
    "model.save('model')"
   ]
  },
  {
   "cell_type": "code",
   "execution_count": 73,
   "metadata": {},
   "outputs": [
    {
     "name": "stdout",
     "output_type": "stream",
     "text": [
      "dict_keys(['val_loss', 'loss'])\n"
     ]
    },
    {
     "data": {
      "image/png": "[encoded data removed]",
      "text/plain": [
       "<Figure size 432x288 with 1 Axes>"
      ]
     },
     "metadata": {
      "needs_background": "light"
     },
     "output_type": "display_data"
    }
   ],
   "source": [
    "print(fited.history.keys())\n",
    "# loss during the training process\n",
    "plt.plot(fited.history['loss'])\n",
    "plt.plot(fited.history['val_loss'])\n",
    "plt.title('Model Loss')\n",
    "plt.ylabel('Loss')\n",
    "plt.xlabel('Epoch')\n",
    "plt.legend(['train', 'test'], loc='upper right')\n",
    "plt.show()"
   ]
  },
  {
   "cell_type": "code",
   "execution_count": 74,
   "metadata": {},
   "outputs": [
    {
     "data": {
      "image/png": "[encoded data removed]",
      "text/plain": [
       "<Figure size 432x288 with 1 Axes>"
      ]
     },
     "metadata": {
      "needs_background": "light"
     },
     "output_type": "display_data"
    }
   ],
   "source": [
    "acc = evaluator.accs\n",
    "plt.plot(acc)\n",
    "plt.title('Model Acc')\n",
    "plt.ylabel('Accuracy')\n",
    "plt.xlabel('Epoch')\n",
    "plt.show()"
   ]
  },
  {
   "cell_type": "code",
   "execution_count": null,
   "metadata": {},
   "outputs": [],
   "source": [
    "print(img_path_test[:3])\n",
    "print(sequence[:3])\n",
    "print(new_labels[:3])"
   ]
  },
  {
   "cell_type": "code",
   "execution_count": null,
   "metadata": {},
   "outputs": [],
   "source": []
  },
  {
   "cell_type": "code",
   "execution_count": null,
   "metadata": {},
   "outputs": [],
   "source": []
  }
 ],
 "metadata": {
  "kernelspec": {
   "display_name": "Python [default]",
   "language": "python",
   "name": "python3"
  },
  "language_info": {
   "codemirror_mode": {
    "name": "ipython",
    "version": 3
   },
   "file_extension": ".py",
   "mimetype": "text/x-python",
   "name": "python",
   "nbconvert_exporter": "python",
   "pygments_lexer": "ipython3",
   "version": "3.6.5"
  }
 },
 "nbformat": 4,
 "nbformat_minor": 2
}
